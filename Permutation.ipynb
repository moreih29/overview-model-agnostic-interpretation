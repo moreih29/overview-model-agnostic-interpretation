{
 "cells": [
  {
   "cell_type": "markdown",
   "metadata": {},
   "source": [
    "# Permutation Feature Importance"
   ]
  },
  {
   "cell_type": "markdown",
   "metadata": {},
   "source": [
    "## 초기 설정"
   ]
  },
  {
   "cell_type": "code",
   "execution_count": 7,
   "metadata": {},
   "outputs": [],
   "source": [
    "from xgboost import XGBClassifier, XGBRegressor\n",
    "from sklearn.datasets import load_breast_cancer, load_diabetes\n",
    "from sklearn.model_selection import train_test_split\n",
    "from sklearn.inspection import permutation_importance\n",
    "\n",
    "from matplotlib import pyplot as plt\n",
    "import pandas as pd"
   ]
  },
  {
   "cell_type": "markdown",
   "metadata": {},
   "source": [
    "## Classification"
   ]
  },
  {
   "cell_type": "markdown",
   "metadata": {},
   "source": [
    "### 데이터 로드 및 전처리"
   ]
  },
  {
   "cell_type": "code",
   "execution_count": 3,
   "metadata": {},
   "outputs": [],
   "source": [
    "# scikit-learn의 유방암 데이터 셋 사용\n",
    "breast_cancer_data = load_breast_cancer()\n",
    "\n",
    "X = pd.DataFrame(breast_cancer_data.data)\n",
    "y = pd.DataFrame(breast_cancer_data.target)"
   ]
  },
  {
   "cell_type": "code",
   "execution_count": 4,
   "metadata": {},
   "outputs": [
    {
     "data": {
      "text/plain": [
       "((455, 30), (114, 30), (455,), (114,))"
      ]
     },
     "execution_count": 4,
     "metadata": {},
     "output_type": "execute_result"
    }
   ],
   "source": [
    "# 학습/테스트 데이터 분류 (8:2)\n",
    "X_train, X_test, y_train, y_test = train_test_split(X, y, test_size=0.2, random_state=10)\n",
    "y_train = y_train.values.reshape(-1)\n",
    "y_test = y_test.values.reshape(-1)\n",
    "\n",
    "X_train.shape, X_test.shape, y_train.shape, y_test.shape"
   ]
  },
  {
   "cell_type": "code",
   "execution_count": 5,
   "metadata": {},
   "outputs": [
    {
     "name": "stdout",
     "output_type": "stream",
     "text": [
      "[07:46:11] WARNING: ../src/learner.cc:1115: Starting in XGBoost 1.3.0, the default evaluation metric used with the objective 'binary:logistic' was changed from 'error' to 'logloss'. Explicitly set eval_metric if you'd like to restore the old behavior.\n"
     ]
    },
    {
     "name": "stderr",
     "output_type": "stream",
     "text": [
      "/opt/conda/lib/python3.7/site-packages/xgboost/sklearn.py:1224: UserWarning: The use of label encoder in XGBClassifier is deprecated and will be removed in a future release. To remove this warning, do the following: 1) Pass option use_label_encoder=False when constructing XGBClassifier object; and 2) Encode your labels (y) as integers starting with 0, i.e. 0, 1, 2, ..., [num_class - 1].\n",
      "  warnings.warn(label_encoder_deprecation_msg, UserWarning)\n"
     ]
    },
    {
     "data": {
      "text/plain": [
       "XGBClassifier(base_score=0.5, booster='gbtree', colsample_bylevel=1,\n",
       "              colsample_bynode=1, colsample_bytree=1, enable_categorical=False,\n",
       "              gamma=0, gpu_id=-1, importance_type=None,\n",
       "              interaction_constraints='', learning_rate=0.300000012,\n",
       "              max_delta_step=0, max_depth=6, min_child_weight=1, missing=nan,\n",
       "              monotone_constraints='()', n_estimators=100, n_jobs=8,\n",
       "              num_parallel_tree=1, predictor='auto', random_state=3,\n",
       "              reg_alpha=0, reg_lambda=1, scale_pos_weight=1, subsample=1,\n",
       "              tree_method='exact', validate_parameters=1, verbosity=None)"
      ]
     },
     "execution_count": 5,
     "metadata": {},
     "output_type": "execute_result"
    }
   ],
   "source": [
    "# XGB 분류 모델 생성\n",
    "classify_xgb = XGBClassifier(n_estimators=100, random_state=3)\n",
    "classify_xgb.fit(X_train, y_train)"
   ]
  },
  {
   "cell_type": "code",
   "execution_count": 6,
   "metadata": {},
   "outputs": [
    {
     "name": "stdout",
     "output_type": "stream",
     "text": [
      "Train set accuracy: 1.000\n",
      "Test set accuracy: 0.965\n"
     ]
    }
   ],
   "source": [
    "print(f'Train set accuracy: {classify_xgb.score(X_train, y_train):.3f}')\n",
    "print(f'Test set accuracy: {classify_xgb.score(X_test, y_test):.3f}')"
   ]
  },
  {
   "cell_type": "markdown",
   "metadata": {},
   "source": [
    "### Explaining"
   ]
  },
  {
   "cell_type": "code",
   "execution_count": 18,
   "metadata": {},
   "outputs": [
    {
     "name": "stdout",
     "output_type": "stream",
     "text": [
      "worst concave points\t0.022 +/- 0.011\n"
     ]
    }
   ],
   "source": [
    "pi = permutation_importance(classify_xgb, X_test, y_test,\n",
    "                            n_repeats=50, random_state=1)\n",
    "\n",
    "for i in pi.importances_mean.argsort()[::-1]:\n",
    "    # 평균에서 표준 편차의 2배 이상 떨어진 값은 제외\n",
    "    if pi.importances_mean[i] - 2 * pi.importances_std[i] > 0:\n",
    "        print(''.join([\n",
    "            f'{breast_cancer_data.feature_names[i]}\\t',\n",
    "            f'{pi.importances_mean[i]:.3f}',\n",
    "            f' +/- {pi.importances_std[i]:.3f}'\n",
    "        ]))"
   ]
  },
  {
   "cell_type": "code",
   "execution_count": 19,
   "metadata": {},
   "outputs": [
    {
     "data": {
      "image/png": "[encoded data removed]",
      "text/plain": [
       "<Figure size 432x288 with 1 Axes>"
      ]
     },
     "metadata": {
      "needs_background": "light"
     },
     "output_type": "display_data"
    }
   ],
   "source": [
    "# 결정 트리의 특성 중요도를 시각화\n",
    "def plot_feature_importance(data, model):\n",
    "    n_features = len(data.feature_names)\n",
    "    plt.barh(range(n_features), model.feature_importances_, align='center')\n",
    "    plt.yticks(range(n_features), data.feature_names)\n",
    "    plt.xlabel('feature importance')\n",
    "    plt.ylabel('feature name')\n",
    "    plt.ylim(-1, n_features)\n",
    "    plt.show()\n",
    "\n",
    "plot_feature_importance(breast_cancer_data, classify_xgb)"
   ]
  },
  {
   "cell_type": "markdown",
   "metadata": {},
   "source": [
    "- 해당 방법을 사용했을 때, 단 한 개의 feature만 중요하다고 판단함\n",
    "- XGB의 importance는 \"worst perimeter\"를 가장 중요하게 보았으나, permutation importance는 중요하다 판단하지 않음"
   ]
  },
  {
   "cell_type": "markdown",
   "metadata": {},
   "source": [
    "## Regression"
   ]
  },
  {
   "cell_type": "markdown",
   "metadata": {},
   "source": [
    "### 데이터 로드 및 전처리"
   ]
  },
  {
   "cell_type": "code",
   "execution_count": 20,
   "metadata": {},
   "outputs": [],
   "source": [
    "# scikit-learn의 당뇨병 데이터\n",
    "# data의 경우 나이, 성별 등 환자의 특성\n",
    "# target의 경우 baseline을 기준으로 한 질병의 진행 정도\n",
    "diabetes_data = load_diabetes()\n",
    "\n",
    "X = pd.DataFrame(diabetes_data.data)\n",
    "y = pd.DataFrame(diabetes_data.target)"
   ]
  },
  {
   "cell_type": "code",
   "execution_count": 21,
   "metadata": {},
   "outputs": [
    {
     "data": {
      "text/plain": [
       "((353, 10), (89, 10), (353,), (89,))"
      ]
     },
     "execution_count": 21,
     "metadata": {},
     "output_type": "execute_result"
    }
   ],
   "source": [
    "# 학습/테스트 데이터 분류 (8:2)\n",
    "X_train, X_test, y_train, y_test = train_test_split(X, y, test_size=0.2, random_state=10)\n",
    "y_train = y_train.values.reshape(-1)\n",
    "y_test = y_test.values.reshape(-1)\n",
    "\n",
    "X_train.shape, X_test.shape, y_train.shape, y_test.shape"
   ]
  },
  {
   "cell_type": "markdown",
   "metadata": {},
   "source": [
    "### 모델 생성 및 평가"
   ]
  },
  {
   "cell_type": "code",
   "execution_count": 22,
   "metadata": {},
   "outputs": [
    {
     "name": "stdout",
     "output_type": "stream",
     "text": [
      "Train set accuracy: 1.000\n",
      "Test set accuracy: 0.329\n"
     ]
    }
   ],
   "source": [
    "# XGB 회귀 모델 생성\n",
    "regression_xgb = XGBRegressor(n_estimators=100, random_state=3)\n",
    "regression_xgb.fit(X_train, y_train)\n",
    "\n",
    "# 학습/테스트 데이터에 대해 성능 평가\n",
    "print(f'Train set accuracy: {regression_xgb.score(X_train, y_train):.3f}')\n",
    "print(f'Test set accuracy: {regression_xgb.score(X_test, y_test):.3f}')"
   ]
  },
  {
   "cell_type": "code",
   "execution_count": 23,
   "metadata": {},
   "outputs": [
    {
     "data": {
      "image/png": "[encoded data removed]",
      "text/plain": [
       "<Figure size 432x288 with 1 Axes>"
      ]
     },
     "metadata": {
      "needs_background": "light"
     },
     "output_type": "display_data"
    }
   ],
   "source": [
    "# 모델 예측 결과 확인을 위해 테스트의 타겟/예측 데이터 정렬\n",
    "pred_test = regression_xgb.predict(X_test)\n",
    "test_sort_indices = y_test.reshape(-1).argsort()\n",
    "y_test_sort = y_test[test_sort_indices]\n",
    "pred_test_sort = pred_test[test_sort_indices]\n",
    "\n",
    "# 테스트 데이터에 대한 타겟/예측 값 확인\n",
    "plt.scatter(range(len(y_test)), y_test_sort, label='truth')\n",
    "plt.scatter(range(len(y_test)), pred_test_sort, label='predict')\n",
    "plt.xlabel('# of x')\n",
    "plt.ylabel('target value')\n",
    "plt.legend()\n",
    "plt.show()"
   ]
  },
  {
   "cell_type": "markdown",
   "metadata": {},
   "source": [
    "### Explaining"
   ]
  },
  {
   "cell_type": "code",
   "execution_count": 24,
   "metadata": {},
   "outputs": [
    {
     "name": "stdout",
     "output_type": "stream",
     "text": [
      "s5\t0.390 +/- 0.099\n",
      "bmi\t0.256 +/- 0.069\n"
     ]
    }
   ],
   "source": [
    "pi = permutation_importance(regression_xgb, X_test, y_test,\n",
    "                            n_repeats=50, random_state=1)\n",
    "\n",
    "for i in pi.importances_mean.argsort()[::-1]:\n",
    "    # 평균에서 표준 편차의 2배 이상 떨어진 값은 제외\n",
    "    if pi.importances_mean[i] - 2 * pi.importances_std[i] > 0:\n",
    "        print(''.join([\n",
    "            f'{diabetes_data.feature_names[i]}\\t',\n",
    "            f'{pi.importances_mean[i]:.3f}',\n",
    "            f' +/- {pi.importances_std[i]:.3f}'\n",
    "        ]))"
   ]
  },
  {
   "cell_type": "code",
   "execution_count": 25,
   "metadata": {},
   "outputs": [
    {
     "data": {
      "image/png": "[encoded data removed]",
      "text/plain": [
       "<Figure size 432x288 with 1 Axes>"
      ]
     },
     "metadata": {
      "needs_background": "light"
     },
     "output_type": "display_data"
    }
   ],
   "source": [
    "plot_feature_importance(diabetes_data, regression_xgb)"
   ]
  },
  {
   "cell_type": "markdown",
   "metadata": {},
   "source": [
    "- 트리의 importance와 permutation의 importance가 비슷하게 나옴"
   ]
  }
 ],
 "metadata": {
  "interpreter": {
   "hash": "d4d1e4263499bec80672ea0156c357c1ee493ec2b1c70f0acce89fc37c4a6abe"
  },
  "kernelspec": {
   "display_name": "Python 3.7.11 64-bit ('base': conda)",
   "language": "python",
   "name": "python3"
  },
  "language_info": {
   "codemirror_mode": {
    "name": "ipython",
    "version": 3
   },
   "file_extension": ".py",
   "mimetype": "text/x-python",
   "name": "python",
   "nbconvert_exporter": "python",
   "pygments_lexer": "ipython3",
   "version": "3.7.11"
  },
  "orig_nbformat": 4
 },
 "nbformat": 4,
 "nbformat_minor": 2
}
